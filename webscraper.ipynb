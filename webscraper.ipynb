{
 "cells": [
  {
   "cell_type": "code",
   "execution_count": null,
   "metadata": {
    "vscode": {
     "languageId": "plaintext"
    }
   },
   "outputs": [],
   "source": [
    "import pandas as pd\n",
    "import os\n",
    "import torch\n",
    "import torch.nn as nn\n",
    "import torch.nn.functional as F\n",
    "import torch.optim as optim\n",
    "import torchvision.transforms as transforms\n",
    "import torchvision.datasets as datasets\n",
    "from torch.utils.data import DataLoader\n",
    "from torchsummary import summary\n",
    "import matplotlib.pyplot as plt"
   ]
  },
  {
   "cell_type": "code",
   "execution_count": null,
   "metadata": {
    "vscode": {
     "languageId": "plaintext"
    }
   },
   "outputs": [],
   "source": [
    "device = torch.device(\"cuda\" if torch.cuda.is_available() else \"cpu\")\n",
    "print(device)"
   ]
  },
  {
   "cell_type": "code",
   "execution_count": null,
   "metadata": {
    "vscode": {
     "languageId": "plaintext"
    }
   },
   "outputs": [],
   "source": [
    "import pandas as pd\n",
    "import os\n",
    "\n",
    "csv_path = \"./path/to/images/styles.csv\"\n",
    "\n",
    "df = pd.read_csv(csv_path, usecols=[\"id\", \"gender\", \"masterCategory\", \"subCategory\", \n",
    "                                    \"articleType\", \"baseColour\", \"season\", \"year\", \n",
    "                                    \"usage\", \"productDisplayName\"])\n",
    "\n",
    "df[\"brand\"] = df[\"productDisplayName\"].str.split().str[0]\n",
    "\n",
    "image_folder = \"./path/to/images/images\"\n",
    "\n",
    "df[\"image_path\"] = df[\"id\"].astype(str) + \".jpg\"  # Keep only filenames\n",
    "\n",
    "df.head()"
   ]
  },
  {
   "cell_type": "code",
   "execution_count": null,
   "metadata": {
    "vscode": {
     "languageId": "plaintext"
    }
   },
   "outputs": [],
   "source": [
    "import os\n",
    "import random\n",
    "import pandas as pd\n",
    "import logging\n",
    "from selenium import webdriver\n",
    "from selenium.webdriver.common.by import By\n",
    "from selenium.webdriver.support.ui import WebDriverWait\n",
    "from selenium.webdriver.support import expected_conditions as EC\n",
    "import time\n",
    "\n",
    "logging.basicConfig(filename=\"scraper_log.txt\", level=logging.INFO, format=\"%(asctime)s - %(levelname)s - %(message)s\")\n",
    "\n",
    "csv_path = \"./path/to/images/styles.csv\"\n",
    "image_folder = \"./path/to/images/images\"\n",
    "\n",
    "df = pd.read_csv(csv_path, usecols=[\"id\", \"gender\", \"masterCategory\", \"subCategory\",\n",
    "                                    \"articleType\", \"baseColour\", \"season\", \"year\",\n",
    "                                    \"usage\", \"productDisplayName\"])\n",
    "\n",
    "df[\"brand\"] = df[\"productDisplayName\"].str.split().str[0]\n",
    "df[\"price\"] = None\n",
    "df[\"website\"] = None\n",
    "df[\"image_path\"] = df[\"id\"].astype(str) + \".jpg\"\n",
    "\n",
    "\n",
    "options = webdriver.EdgeOptions()\n",
    "options.add_argument(f\"--user-data-dir={os.path.expanduser('~')}/AppData/Local/Microsoft/Edge/User Data\")\n",
    "options.add_argument(\"--profile-directory=Default\")\n",
    "driver = webdriver.Edge()\n",
    "\n",
    "\n",
    "image_count = 0\n",
    "for index, row in df.iterrows():\n",
    "    if image_count >= 500:\n",
    "        print(\"Processed 500 images, stopping...\")\n",
    "        break\n",
    "\n",
    "    image_file = os.path.join(image_folder, row[\"image_path\"])\n",
    "    if not os.path.exists(image_file):\n",
    "        logging.warning(f\"Image not found: {image_file}\")\n",
    "        continue\n",
    "\n",
    "    try:\n",
    "        driver.get(\"https://lens.google.com/\")\n",
    "        time.sleep(random.uniform(.02, .05))\n",
    "        print(f\"Searching image: {row['image_path']}\")\n",
    "\n",
    "        upload_button = WebDriverWait(driver, 5).until(\n",
    "            EC.element_to_be_clickable((By.XPATH, \"//span[contains(text(),'upload a file')]\"))\n",
    "        )\n",
    "        upload_button.click()\n",
    "        time.sleep(random.uniform(.02, .05))\n",
    "\n",
    "        upload_input = WebDriverWait(driver, 5).until(\n",
    "            EC.presence_of_element_located((By.CSS_SELECTOR, \"input[type='file']\"))\n",
    "        )\n",
    "        upload_input.send_keys(image_file)\n",
    "        if row[\"image_path\"] == \"15970.jpg\":\n",
    "            print(\"Waiting extra time for CAPTCHA...\")\n",
    "            time.sleep(20)\n",
    "        print(f\"Uploaded image: {row['image_path']}\")\n",
    "\n",
    "        time.sleep(random.uniform(.005, .01))\n",
    "        driver.execute_script(\"window.scrollBy(0, 300);\")\n",
    "\n",
    "        time.sleep(random.uniform(.5, 1.5))  # Give time for results to appear\n",
    "\n",
    "        price_elements = driver.find_elements(By.XPATH, \"//span[@class='EwVMFc']\")\n",
    "        retailer_elements = driver.find_elements(By.XPATH, \"//div[@class='R8BTeb q8U8x LJEGod du278d i0Rdmd']\")\n",
    "\n",
    "        found_price = None\n",
    "        found_retailer = None\n",
    "\n",
    "        for i, price_elem in enumerate(price_elements):\n",
    "            price_text = price_elem.text.strip()\n",
    "            if \"$\" == price_text[0]:\n",
    "                found_price = price_text\n",
    "                # Try to get the corresponding retailer (if available)\n",
    "                if i < len(retailer_elements):\n",
    "                    found_retailer = retailer_elements[i].text.strip()\n",
    "                else:\n",
    "                    found_retailer = None\n",
    "                break\n",
    "\n",
    "        if found_price and found_retailer:\n",
    "            df.at[index, \"price\"] = found_price\n",
    "            df.at[index, \"website\"] = found_retailer\n",
    "            print(f\"Found Price: {found_price} at {found_retailer}\")\n",
    "        else:\n",
    "            logging.warning(f\"No $ price found for image: {row['image_path']}\")\n",
    "\n",
    "        time.sleep(random.uniform(.05, .5))\n",
    "        image_count += 1\n",
    "\n",
    "    except Exception as e:\n",
    "        logging.error(f\"Error processing image {row['image_path']}: {e}\")\n",
    "        print(\"CAPTCHA detected! Sleeping for 10 seconds before retrying...\")\n",
    "        time.sleep(10)\n",
    "\n",
    "driver.quit()\n",
    "print(\"WebDriver closed.\")\n",
    "print(\"\\nDataFrame updated successfully!\")"
   ]
  },
  {
   "cell_type": "code",
   "execution_count": null,
   "metadata": {
    "vscode": {
     "languageId": "plaintext"
    }
   },
   "outputs": [],
   "source": [
    "import pandas as pd\n",
    "\n",
    "# csv_path = ./path/to/images/styles.csv\"\n",
    "# df = pd.read_csv(csv_path, usecols=[\"id\", \"price\"])\n",
    "\n",
    "# **Function to Extract Currency Symbol**\n",
    "def get_currency(price):\n",
    "    if pd.isna(price) or not isinstance(price, str):\n",
    "        return None  # Handle missing or invalid values\n",
    "    return price[0]  # Extract first character (currency)\n",
    "\n",
    "# **Apply Function to Price Column**\n",
    "df[\"currency\"] = df[\"price\"].apply(get_currency)\n",
    "\n",
    "print(df.head())\n",
    "\n",
    "df.to_csv(\"updated_prices.csv\", index=False)\n",
    "print(\"Currency symbols extracted successfully!\")"
   ]
  },
  {
   "cell_type": "code",
   "execution_count": null,
   "metadata": {
    "vscode": {
     "languageId": "plaintext"
    }
   },
   "outputs": [],
   "source": [
    "df.head(500)"
   ]
  },
  {
   "cell_type": "code",
   "execution_count": null,
   "metadata": {
    "vscode": {
     "languageId": "plaintext"
    }
   },
   "outputs": [],
   "source": [
    "import pandas as pd\n",
    "\n",
    "# **Filter Out Rows Without Pricing**\n",
    "df_filtered = df.dropna(subset=[\"price\"])  # Remove rows where 'price' is NaN\n",
    "\n",
    "# **Limit to First 500 Entries**\n",
    "df_limited = df_filtered.head(500)  \n",
    "\n",
    "def get_currency(price):\n",
    "    if pd.isna(price) or not isinstance(price, str):\n",
    "        return None  # Handle missing or invalid values\n",
    "    return price[0]  # Extract first character (currency)\n",
    "\n",
    "df_limited[\"currency\"] = df_limited[\"price\"].apply(get_currency)\n",
    "\n",
    "print(df_limited.head())\n",
    "\n",
    "df_limited.to_csv(\"updated_prices.csv\", index=False)\n",
    "print(\"Filtered dataset saved with first 500 images that have pricing!\")"
   ]
  },
  {
   "cell_type": "code",
   "execution_count": null,
   "metadata": {
    "vscode": {
     "languageId": "plaintext"
    }
   },
   "outputs": [],
   "source": [
    "len(df_limited)"
   ]
  },
  {
   "cell_type": "code",
   "execution_count": null,
   "metadata": {
    "vscode": {
     "languageId": "plaintext"
    }
   },
   "outputs": [],
   "source": [
    "df_limited.tail()"
   ]
  },
  {
   "cell_type": "code",
   "execution_count": null,
   "metadata": {
    "vscode": {
     "languageId": "plaintext"
    }
   },
   "outputs": [],
   "source": [
    "import os\n",
    "image_path = path/to/images/images/15970.jpg\"\n",
    "print(\"File Exists:\", os.path.exists(image_path))"
   ]
  },
  {
   "cell_type": "code",
   "execution_count": null,
   "metadata": {
    "vscode": {
     "languageId": "plaintext"
    }
   },
   "outputs": [],
   "source": [
    "print(os.getcwd())  "
   ]
  },
  {
   "cell_type": "code",
   "execution_count": null,
   "metadata": {
    "vscode": {
     "languageId": "plaintext"
    }
   },
   "outputs": [],
   "source": [
    "df_limited.tail()"
   ]
  },
  {
   "cell_type": "code",
   "execution_count": null,
   "metadata": {
    "vscode": {
     "languageId": "plaintext"
    }
   },
   "outputs": [],
   "source": [
    "print(df_limited[\"articleType\"].unique())"
   ]
  },
  {
   "cell_type": "code",
   "execution_count": null,
   "metadata": {
    "vscode": {
     "languageId": "plaintext"
    }
   },
   "outputs": [],
   "source": [
    "print(df_limited[\"currency\"].unique())"
   ]
  },
  {
   "cell_type": "code",
   "execution_count": null,
   "metadata": {
    "vscode": {
     "languageId": "plaintext"
    }
   },
   "outputs": [],
   "source": [
    "currencies = ['₹', 'C', 'P', '€', 'S', '£', 'A', None]\n",
    "filtered_df = df_limited[df_limited['currency'].isin(currencies)]\n",
    "filtered_df.head(50)"
   ]
  },
  {
   "cell_type": "code",
   "execution_count": null,
   "metadata": {
    "vscode": {
     "languageId": "plaintext"
    }
   },
   "outputs": [],
   "source": []
  }
 ],
 "metadata": {
  "language_info": {
   "name": "python"
  }
 },
 "nbformat": 4,
 "nbformat_minor": 2
}
